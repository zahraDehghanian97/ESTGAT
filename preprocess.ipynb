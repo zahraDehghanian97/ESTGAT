{
 "cells": [
  {
   "cell_type": "markdown",
   "metadata": {
    "id": "0ATPfZuMoc7n",
    "papermill": {
     "duration": 0.026081,
     "end_time": "2021-12-24T18:51:03.900868",
     "exception": false,
     "start_time": "2021-12-24T18:51:03.874787",
     "status": "completed"
    },
    "tags": []
   },
   "source": [
    "<h1>\n",
    "preprocess\n",
    "</h1>\n",
    "\n",
    "add meteorogical data to node values in shape of PEMS dataset\n",
    "(2543,19) --> (2543,19,8)"
   ]
  },
  {
   "cell_type": "code",
   "execution_count": 6,
   "metadata": {
    "id": "yJwipdkjoc7s"
   },
   "outputs": [],
   "source": [
    "import pandas as pd\n",
    "import numpy as np"
   ]
  },
  {
   "cell_type": "code",
   "execution_count": 15,
   "metadata": {
    "id": "fiF5Q277oc7u"
   },
   "outputs": [
    {
     "name": "stdout",
     "output_type": "stream",
     "text": [
      "(2543, 19)\n",
      "2543\n"
     ]
    }
   ],
   "source": [
    "data = np.load('weather_node_values.npy')\n",
    "print(data.shape)\n",
    "print(len(data))\n",
    "final_data = np.zeros((2543,19,8))\n",
    "final_data[:,:,0] = data"
   ]
  },
  {
   "cell_type": "code",
   "execution_count": 17,
   "metadata": {},
   "outputs": [],
   "source": [
    "df=pd.read_csv('AQIData_weather_filled_index.xlsx - Sheet1.csv', sep=',')\n",
    "df = df.values[:,-7:]\n",
    "for i in range(1,7) :\n",
    "    temp = np.zeros((2543,19))\n",
    "    temp2 = df[:,-1*i]\n",
    "    for j in range(19):\n",
    "        temp[:,j] = temp2\n",
    "    final_data[:,:,i] = temp\n",
    "np.save('weather_node_values_new.npy',final_data)\n",
    "    "
   ]
  }
 ],
 "metadata": {
  "colab": {
   "collapsed_sections": [],
   "name": "astgcn-for-air-pollution.ipynb",
   "provenance": []
  },
  "kernelspec": {
   "display_name": "Python 3 (ipykernel)",
   "language": "python",
   "name": "python3"
  },
  "language_info": {
   "codemirror_mode": {
    "name": "ipython",
    "version": 3
   },
   "file_extension": ".py",
   "mimetype": "text/x-python",
   "name": "python",
   "nbconvert_exporter": "python",
   "pygments_lexer": "ipython3",
   "version": "3.9.5"
  },
  "papermill": {
   "duration": 4433.693264,
   "end_time": "2021-12-24T20:04:18.722587",
   "environment_variables": {},
   "exception": null,
   "input_path": "__notebook__.ipynb",
   "output_path": "__notebook__.ipynb",
   "parameters": {},
   "start_time": "2021-12-24T18:50:25.029323",
   "version": "2.1.0"
  }
 },
 "nbformat": 4,
 "nbformat_minor": 1
}
